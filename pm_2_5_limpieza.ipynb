{
  "nbformat": 4,
  "nbformat_minor": 0,
  "metadata": {
    "colab": {
      "provenance": []
    },
    "kernelspec": {
      "name": "python3",
      "display_name": "Python 3"
    },
    "language_info": {
      "name": "python"
    }
  },
  "cells": [
    {
      "cell_type": "code",
      "source": [
        "from google.colab import drive\n",
        "drive.mount('/content/drive')\n",
        "\n"
      ],
      "metadata": {
        "colab": {
          "base_uri": "https://localhost:8080/"
        },
        "id": "9DNh4DZ9Vtdq",
        "outputId": "45e4d51d-13a0-4682-c34c-96bbe19b65e0"
      },
      "execution_count": 2,
      "outputs": [
        {
          "output_type": "stream",
          "name": "stdout",
          "text": [
            "Mounted at /content/drive\n"
          ]
        }
      ]
    },
    {
      "cell_type": "code",
      "source": [
        "import pandas as pd\n",
        "import glob\n",
        "import os\n"
      ],
      "metadata": {
        "id": "-bPwQX8yVuXp"
      },
      "execution_count": 3,
      "outputs": []
    },
    {
      "cell_type": "code",
      "source": [
        "\n",
        "carpeta = '/content/drive/MyDrive/PM25_CSVs'\n",
        "\n",
        "\n",
        "archivos = glob.glob(os.path.join(carpeta, '*.csv'))\n",
        "\n",
        "print(f\"Archivos encontrados: {len(archivos)}\")"
      ],
      "metadata": {
        "id": "j4oFIcCPp2gc",
        "colab": {
          "base_uri": "https://localhost:8080/"
        },
        "outputId": "daba8df5-7e0a-45aa-b4ba-6d4f90d487cf"
      },
      "execution_count": 4,
      "outputs": [
        {
          "output_type": "stream",
          "name": "stdout",
          "text": [
            "Archivos encontrados: 110\n"
          ]
        }
      ]
    },
    {
      "cell_type": "code",
      "source": [
        "datos_validos = []\n",
        "\n",
        "for archivo in archivos:\n",
        "    try:\n",
        "        df = pd.read_csv(archivo, skiprows=8, encoding='latin1')\n",
        "        df = df[['yyyy-mm-dd HH:MM:SS', 'ug/m^3.1', 'flag.6']]\n",
        "        df.columns = ['datetime', 'PM25', 'flag']\n",
        "\n",
        "        df['datetime'] = pd.to_datetime(df['datetime'], errors='coerce')\n",
        "        df['PM25'] = pd.to_numeric(df['PM25'], errors='coerce')\n",
        "\n",
        "        df_ok = df[df['flag'].str.strip() == 'OK'].dropna()\n",
        "        datos_validos.append(df_ok)\n",
        "\n",
        "        print(f\" Procesado: {os.path.basename(archivo)} — {len(df_ok)} válidos\")\n",
        "\n",
        "    except Exception as e:\n",
        "        print(f\"⚠️ Error con {os.path.basename(archivo)}: {e}\")\n",
        "\n",
        "\n",
        "df_total = pd.concat(datos_validos).sort_values('datetime').reset_index(drop=True)\n",
        "print(f\"\\n Total de datos válidos: {len(df_total)}\")\n",
        "\n",
        "\n",
        "salida = '/content/PM25_RUOA_UNIDO.csv'\n",
        "df_total.to_csv(salida, index=False)\n",
        "print(f\"📤 CSV final guardado en: {salida}\")"
      ],
      "metadata": {
        "colab": {
          "base_uri": "https://localhost:8080/"
        },
        "id": "A_ReIZss5WtB",
        "outputId": "02c61f64-926a-4afe-fb49-0a67a97685bc"
      },
      "execution_count": 5,
      "outputs": [
        {
          "output_type": "stream",
          "name": "stdout",
          "text": [
            " Procesado: 2014-12-ERNO_hora_L1_caire.csv — 0 válidos\n",
            " Procesado: 2015-01-ERNO_hora_L1_caire.csv — 157 válidos\n",
            " Procesado: 2015-02-ERNO_hora_L1_caire.csv — 528 válidos\n",
            " Procesado: 2015-03-ERNO_hora_L1_caire.csv — 547 válidos\n",
            " Procesado: 2015-04-ERNO_hora_L1_caire.csv — 600 válidos\n",
            " Procesado: 2015-05-ERNO_hora_L1_caire.csv — 617 válidos\n",
            " Procesado: 2015-06-ERNO_hora_L1_caire.csv — 40 válidos\n",
            " Procesado: 2015-07-ERNO_hora_L1_caire.csv — 413 válidos\n",
            " Procesado: 2015-08-ERNO_hora_L1_caire.csv — 584 válidos\n",
            " Procesado: 2015-09-ERNO_hora_L1_caire.csv — 547 válidos\n",
            " Procesado: 2015-10-ERNO_hora_L1_caire.csv — 588 válidos\n",
            " Procesado: 2015-11-ERNO_hora_L1_caire.csv — 549 válidos\n",
            " Procesado: 2015-12-ERNO_hora_L1_caire.csv — 545 válidos\n",
            " Procesado: 2016-01-ERNO_hora_L1_caire.csv — 575 válidos\n",
            " Procesado: 2016-02-ERNO_hora_L1_caire.csv — 580 válidos\n",
            " Procesado: 2016-03-ERNO_hora_L1_caire.csv — 614 válidos\n",
            " Procesado: 2016-05-ERNO_hora_L1_caire.csv — 625 válidos\n",
            " Procesado: 2016-04-ERNO_hora_L1_caire.csv — 593 válidos\n",
            " Procesado: 2016-06-ERNO_hora_L1_caire.csv — 606 válidos\n",
            " Procesado: 2016-07-ERNO_hora_L1_caire.csv — 542 válidos\n",
            " Procesado: 2016-08-ERNO_hora_L1_caire.csv — 558 válidos\n",
            " Procesado: 2016-09-ERNO_hora_L1_caire.csv — 545 válidos\n",
            " Procesado: 2016-10-ERNO_hora_L1_caire.csv — 635 válidos\n",
            " Procesado: 2016-11-ERNO_hora_L1_caire.csv — 565 válidos\n",
            " Procesado: 2016-12-ERNO_hora_L1_caire.csv — 581 válidos\n",
            " Procesado: 2017-01-ERNO_hora_L1_caire.csv — 492 válidos\n",
            " Procesado: 2017-02-ERNO_hora_L1_caire.csv — 486 válidos\n",
            " Procesado: 2017-03-ERNO_hora_L1_caire.csv — 599 válidos\n",
            " Procesado: 2017-04-ERNO_hora_L1_caire.csv — 652 válidos\n",
            " Procesado: 2017-05-ERNO_hora_L1_caire.csv — 633 válidos\n",
            " Procesado: 2017-06-ERNO_hora_L1_caire.csv — 667 válidos\n",
            " Procesado: 2017-07-ERNO_hora_L1_caire.csv — 585 válidos\n",
            " Procesado: 2017-08-ERNO_hora_L1_caire.csv — 451 válidos\n",
            " Procesado: 2017-09-ERNO_hora_L1_caire.csv — 502 válidos\n",
            " Procesado: 2017-10-ERNO_hora_L1_caire.csv — 642 válidos\n",
            " Procesado: 2017-11-ERNO_hora_L1_caire.csv — 624 válidos\n",
            " Procesado: 2017-12-ERNO_hora_L1_caire.csv — 599 válidos\n",
            " Procesado: 2018-01-ERNO_hora_L1_caire.csv — 647 válidos\n",
            " Procesado: 2018-02-ERNO_hora_L1_caire.csv — 513 válidos\n",
            " Procesado: 2018-03-ERNO_hora_L1_caire.csv — 540 válidos\n",
            " Procesado: 2018-04-ERNO_hora_L1_caire.csv — 624 válidos\n",
            " Procesado: 2018-05-ERNO_hora_L1_caire.csv — 633 válidos\n",
            " Procesado: 2018-06-ERNO_hora_L1_caire.csv — 295 válidos\n",
            " Procesado: 2019-07-ERNO_hora_L1_caire.csv — 0 válidos\n",
            " Procesado: 2019-08-ERNO_hora_L1_caire.csv — 14 válidos\n"
          ]
        },
        {
          "output_type": "stream",
          "name": "stderr",
          "text": [
            "<ipython-input-5-8580db1c8576>:9: SettingWithCopyWarning: \n",
            "A value is trying to be set on a copy of a slice from a DataFrame.\n",
            "Try using .loc[row_indexer,col_indexer] = value instead\n",
            "\n",
            "See the caveats in the documentation: https://pandas.pydata.org/pandas-docs/stable/user_guide/indexing.html#returning-a-view-versus-a-copy\n",
            "  df['datetime'] = pd.to_datetime(df['datetime'], errors='coerce')\n",
            "<ipython-input-5-8580db1c8576>:10: SettingWithCopyWarning: \n",
            "A value is trying to be set on a copy of a slice from a DataFrame.\n",
            "Try using .loc[row_indexer,col_indexer] = value instead\n",
            "\n",
            "See the caveats in the documentation: https://pandas.pydata.org/pandas-docs/stable/user_guide/indexing.html#returning-a-view-versus-a-copy\n",
            "  df['PM25'] = pd.to_numeric(df['PM25'], errors='coerce')\n"
          ]
        },
        {
          "output_type": "stream",
          "name": "stdout",
          "text": [
            " Procesado: 2019-09-ERNO_hora_L1_caire.csv — 0 válidos\n",
            " Procesado: 2019-10-ERNO_hora_L1_caire.csv — 0 válidos\n",
            "⚠️ Error con 2019-11-ERNO_hora_L1_caire.csv: \"['flag.6'] not in index\"\n",
            " Procesado: 2019-12-ERNO_hora_L1_caire.csv — 0 válidos\n",
            " Procesado: 2020-01-ERNO_hora_L1_caire.csv — 0 válidos\n",
            " Procesado: 2020-02-ERNO_hora_L1_caire.csv — 0 válidos\n",
            " Procesado: 2020-03-ERNO_hora_L1_caire.csv — 0 válidos\n",
            " Procesado: 2020-04-ERNO_hora_L1_caire.csv — 0 válidos\n",
            " Procesado: 2020-05-ERNO_hora_L1_caire.csv — 0 válidos\n",
            " Procesado: 2020-06-ERNO_hora_L1_caire.csv — 0 válidos\n",
            " Procesado: 2020-07-ERNO_hora_L1_caire.csv — 0 válidos\n",
            " Procesado: 2020-08-ERNO_hora_L1_caire.csv — 0 válidos\n",
            " Procesado: 2020-10-ERNO_hora_L1_caire.csv — 0 válidos\n",
            " Procesado: 2020-09-ERNO_hora_L1_caire.csv — 0 válidos\n",
            " Procesado: 2020-11-ERNO_hora_L1_caire.csv — 0 válidos\n",
            " Procesado: 2020-12-ERNO_hora_L1_caire.csv — 0 válidos\n",
            " Procesado: 2021-01-ERNO_hora_L1_caire.csv — 0 válidos\n",
            " Procesado: 2021-02-ERNO_hora_L1_caire.csv — 0 válidos\n",
            " Procesado: 2021-03-ERNO_hora_L1_caire.csv — 0 válidos\n",
            " Procesado: 2021-04-ERNO_hora_L1_caire.csv — 0 válidos\n",
            " Procesado: 2021-05-ERNO_hora_L1_caire.csv — 0 válidos\n",
            " Procesado: 2021-06-ERNO_hora_L1_caire.csv — 518 válidos\n",
            " Procesado: 2021-07-ERNO_hora_L1_caire.csv — 543 válidos\n",
            " Procesado: 2021-08-ERNO_hora_L1_caire.csv — 511 válidos\n",
            " Procesado: 2021-09-ERNO_hora_L1_caire.csv — 527 válidos\n",
            " Procesado: 2021-10-ERNO_hora_L1_caire.csv — 633 válidos\n",
            " Procesado: 2021-11-ERNO_hora_L1_caire.csv — 599 válidos\n",
            " Procesado: 2021-12-ERNO_hora_L1_caire.csv — 550 válidos\n",
            " Procesado: 2022-01-ERNO_hora_L1_caire.csv — 597 válidos\n",
            " Procesado: 2022-02-ERNO_hora_L1_caire.csv — 464 válidos\n",
            " Procesado: 2022-03-ERNO_hora_L1_caire.csv — 509 válidos\n",
            " Procesado: 2022-04-ERNO_hora_L1_caire.csv — 591 válidos\n",
            " Procesado: 2022-05-ERNO_hora_L1_caire.csv — 411 válidos\n",
            " Procesado: 2022-06-ERNO_hora_L1_caire.csv — 297 válidos\n",
            " Procesado: 2022-07-ERNO_hora_L1_caire.csv — 0 válidos\n",
            " Procesado: 2022-08-ERNO_hora_L1_caire.csv — 0 válidos\n",
            " Procesado: 2022-09-ERNO_hora_L1_caire.csv — 0 válidos\n",
            " Procesado: 2022-10-ERNO_hora_L1_caire.csv — 0 válidos\n",
            " Procesado: 2022-11-ERNO_hora_L1_caire.csv — 0 válidos\n",
            " Procesado: 2022-12-ERNO_hora_L1_caire.csv — 0 válidos\n",
            " Procesado: 2023-01-ERNO_hora_L1_caire.csv — 0 válidos\n",
            " Procesado: 2023-02-ERNO_hora_L1_caire.csv — 0 válidos\n",
            " Procesado: 2023-03-ERNO_hora_L1_caire.csv — 0 válidos\n",
            " Procesado: 2023-04-ERNO_hora_L1_caire.csv — 0 válidos\n",
            " Procesado: 2023-05-ERNO_hora_L1_caire.csv — 0 válidos\n",
            " Procesado: 2023-06-ERNO_hora_L1_caire.csv — 0 válidos\n",
            " Procesado: 2023-07-ERNO_hora_L1_caire.csv — 0 válidos\n",
            " Procesado: 2023-08-ERNO_hora_L1_caire.csv — 0 válidos\n",
            " Procesado: 2023-09-ERNO_hora_L1_caire.csv — 0 válidos\n",
            " Procesado: 2023-10-ERNO_hora_L1_caire.csv — 480 válidos\n",
            " Procesado: 2023-11-ERNO_hora_L1_caire.csv — 606 válidos\n",
            " Procesado: 2023-12-ERNO_hora_L1_caire.csv — 574 válidos\n",
            " Procesado: 2024-01-ERNO_hora_L1_caire.csv — 475 válidos\n",
            "⚠️ Error con 2024-02-ERNO_hora_L1_caire.csv: \"['flag.6'] not in index\"\n",
            " Procesado: 2024-03-ERNO_hora_L1_caire.csv — 459 válidos\n",
            " Procesado: 2024-04-ERNO_hora_L1_caire.csv — 511 válidos\n",
            " Procesado: 2024-05-ERNO_hora_L1_caire.csv — 605 válidos\n",
            " Procesado: 2024-06-ERNO_hora_L1_caire.csv — 522 válidos\n",
            " Procesado: 2024-07-ERNO_hora_L1_caire.csv — 452 válidos\n",
            " Procesado: 2024-08-ERNO_hora_L1_caire.csv — 175 válidos\n",
            " Procesado: 2024-11-ERNO_hora_L1_caire.csv — 533 válidos\n",
            " Procesado: 2025-01-ERNO_hora_L1_caire.csv — 410 válidos\n",
            " Procesado: 2024-12-ERNO_hora_L1_caire.csv — 185 válidos\n",
            " Procesado: 2025-02-ERNO_hora_L1_caire.csv — 508 válidos\n",
            " Procesado: 2025-03-ERNO_hora_L1_caire.csv — 408 válidos\n",
            "\n",
            " Total de datos válidos: 36585\n",
            "📤 CSV final guardado en: /content/PM25_RUOA_UNIDO.csv\n"
          ]
        }
      ]
    },
    {
      "cell_type": "code",
      "source": [
        "from google.colab import files\n",
        "files.download('/content/PM25_RUOA_UNIDO.csv')\n"
      ],
      "metadata": {
        "colab": {
          "base_uri": "https://localhost:8080/",
          "height": 17
        },
        "id": "qRsDSg-T9Y87",
        "outputId": "9d8c0781-2b1e-410f-f433-5ed8dff5b5cb"
      },
      "execution_count": 6,
      "outputs": [
        {
          "output_type": "display_data",
          "data": {
            "text/plain": [
              "<IPython.core.display.Javascript object>"
            ],
            "application/javascript": [
              "\n",
              "    async function download(id, filename, size) {\n",
              "      if (!google.colab.kernel.accessAllowed) {\n",
              "        return;\n",
              "      }\n",
              "      const div = document.createElement('div');\n",
              "      const label = document.createElement('label');\n",
              "      label.textContent = `Downloading \"${filename}\": `;\n",
              "      div.appendChild(label);\n",
              "      const progress = document.createElement('progress');\n",
              "      progress.max = size;\n",
              "      div.appendChild(progress);\n",
              "      document.body.appendChild(div);\n",
              "\n",
              "      const buffers = [];\n",
              "      let downloaded = 0;\n",
              "\n",
              "      const channel = await google.colab.kernel.comms.open(id);\n",
              "      // Send a message to notify the kernel that we're ready.\n",
              "      channel.send({})\n",
              "\n",
              "      for await (const message of channel.messages) {\n",
              "        // Send a message to notify the kernel that we're ready.\n",
              "        channel.send({})\n",
              "        if (message.buffers) {\n",
              "          for (const buffer of message.buffers) {\n",
              "            buffers.push(buffer);\n",
              "            downloaded += buffer.byteLength;\n",
              "            progress.value = downloaded;\n",
              "          }\n",
              "        }\n",
              "      }\n",
              "      const blob = new Blob(buffers, {type: 'application/binary'});\n",
              "      const a = document.createElement('a');\n",
              "      a.href = window.URL.createObjectURL(blob);\n",
              "      a.download = filename;\n",
              "      div.appendChild(a);\n",
              "      a.click();\n",
              "      div.remove();\n",
              "    }\n",
              "  "
            ]
          },
          "metadata": {}
        },
        {
          "output_type": "display_data",
          "data": {
            "text/plain": [
              "<IPython.core.display.Javascript object>"
            ],
            "application/javascript": [
              "download(\"download_395df05a-2d22-479f-99ef-7fbf432b678b\", \"PM25_RUOA_UNIDO.csv\", 1040345)"
            ]
          },
          "metadata": {}
        }
      ]
    }
  ]
}